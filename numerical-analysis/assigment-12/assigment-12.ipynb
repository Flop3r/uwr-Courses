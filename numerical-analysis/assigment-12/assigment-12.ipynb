{
 "cells": [
  {
   "cell_type": "code",
   "execution_count": 2,
   "metadata": {},
   "outputs": [],
   "source": [
    "import numpy as np\n",
    "import math\n",
    "from scipy.integrate import quad\n",
    "\n",
    "def calculate_x_values(a, b, n):\n",
    "    if n < 2 or n > 25:\n",
    "        raise ValueError(\"The number of points 'n' must be in range (2, 25)\")\n",
    "    return np.linspace(a, b, n + 1)  # n+1 punktów\n",
    "\n",
    "def calculate_A(a, b, x_values):\n",
    "    n = len(x_values) - 1\n",
    "    A = []\n",
    "\n",
    "    def basis_polynomial(x, k):\n",
    "        prod = 1\n",
    "        for i, xi in enumerate(x_values):\n",
    "            if i != k:\n",
    "                prod *= (x - xi)\n",
    "        return prod\n",
    "\n",
    "    for k in range(n + 1):\n",
    "        def polynomial_d(x):\n",
    "            return basis_polynomial(x, k)\n",
    "\n",
    "        integral, _ = quad(polynomial_d, a, b)\n",
    "        denominator = np.prod([\n",
    "            x_values[k] - x_values[i] for i in range(n + 1) if i != k\n",
    "        ])\n",
    "        A_k = integral / denominator\n",
    "        A.append(A_k)\n",
    "\n",
    "    return A\n",
    "\n",
    "def integral_nc(f, a, b, n):\n",
    "    x_values = calculate_x_values(a, b, n)\n",
    "    A = calculate_A(a, b, x_values)\n",
    "    return sum(A[k] * f(x_values[k]) for k in range(n + 1))"
   ]
  },
  {
   "cell_type": "markdown",
   "metadata": {},
   "source": [
    "\n",
    "1. **Funkcja \\( \\cos(x) \\):**  \n",
    "   Wynik \\( Q1 \\) szybko konwerguje do \\( 1.666100 \\), co odpowiada oczekiwaniom dla tej gładkiej i okresowej funkcji.\n",
    "\n",
    "2. **Funkcja \\( \\frac{1}{x - 1} \\):**  \n",
    "   Wynik \\( Q2 \\) stabilizuje się na wartość \\( -1.098612 \\). Wyniki są zgodne, mimo że w pobliżu punktu osobliwego \\( x=1 \\) metoda może tracić dokładność. Stabilizacja wyników dla większych \\( n \\) potwierdza odporność algorytmu w tym przypadku.\n",
    "\n",
    "3. **Funkcja \\( \\frac{1}{1 + x^2} \\):**  \n",
    "   Wyniki \\( Q3 \\) wykazują duże wahania i nie konwergują przy wzrastającym \\( n \\). Funkcja ta, mimo że dobrze przybliżana wielomianami, w ramach tej metody wymaga bardziej precyzyjnego doboru punktów i współczynników wagowych. \n"
   ]
  },
  {
   "cell_type": "code",
   "execution_count": 16,
   "metadata": {},
   "outputs": [
    {
     "name": "stdout",
     "output_type": "stream",
     "text": [
      "     n        Q1        Q2          Q3\n",
      "0    2  1.676587 -0.694444   -6.794872\n",
      "1    3  1.670698 -0.693750   -2.081448\n",
      "2    4  1.666037 -0.693175   -2.374005\n",
      "3    5  1.666064 -0.693163   -2.307692\n",
      "4    6  1.666100 -0.693148   -3.870449\n",
      "5    7  1.666100 -0.693148   -2.898994\n",
      "6    8  1.666100 -0.693147   -1.500489\n",
      "7    9  1.666100 -0.693147   -2.398618\n",
      "8   10  1.666100 -0.693147   -4.673301\n",
      "9   11  1.666100 -0.693147   -3.244773\n",
      "10  12  1.666100 -0.693147    0.312937\n",
      "11  13  1.666100 -0.693147   -1.919797\n",
      "12  14  1.666100 -0.693147   -7.899545\n",
      "13  15  1.666100 -0.693147   -4.155559\n",
      "14  16  1.666100 -0.693147    6.241437\n",
      "15  17  1.666100 -0.693147   -0.260509\n",
      "16  18  1.666100 -0.693147  -18.876621\n",
      "17  19  1.666100 -0.693147   -7.246026\n",
      "18  20  1.666100 -0.693147   26.849552\n",
      "19  21  1.666100 -0.693147    5.564433\n",
      "20  22  1.666100 -0.693147  -58.043933\n",
      "21  23  1.666100 -0.693147  -18.360192\n",
      "22  24  1.666100 -0.693147  102.127751\n",
      "23  25  1.666100 -0.693147   26.999305\n"
     ]
    }
   ],
   "source": [
    "# Define functions for integrals\n",
    "def func1(x):\n",
    "    return math.cos(x)\n",
    "\n",
    "def func2(x):\n",
    "    if x == 1:\n",
    "        return np.inf  # Obsługa punktu osobliwego\n",
    "    return 1 / x\n",
    "\n",
    "def func3(x):\n",
    "    return 1 / (1 + x**2)\n",
    "\n",
    "# Obliczenia dla n = 2 do n = 25\n",
    "a1, b1 = 4, 2\n",
    "a2, b2 = 4, 2\n",
    "a3, b3 = 5, -5\n",
    "\n",
    "results = {\"n\": [], \"Q1\": [], \"Q2\": [], \"Q3\": []}\n",
    "for n in range(2, 26):\n",
    "    try:\n",
    "        Q1 = integral_nc(func1, a1, b1, n)\n",
    "        Q2 = integral_nc(func2, a2, b2, n)\n",
    "        Q3 = integral_nc(func3, a3, b3, n)\n",
    "        results[\"n\"].append(n)\n",
    "        results[\"Q1\"].append(Q1)\n",
    "        results[\"Q2\"].append(Q2)\n",
    "        results[\"Q3\"].append(Q3)\n",
    "    except Exception as e:\n",
    "        print(f\"Error for n={n}: {e}\")\n",
    "\n",
    "import pandas as pd\n",
    "\n",
    "df_results = pd.DataFrame(results)\n",
    "print(df_results)\n"
   ]
  }
 ],
 "metadata": {
  "kernelspec": {
   "display_name": "Python 3",
   "language": "python",
   "name": "python3"
  },
  "language_info": {
   "codemirror_mode": {
    "name": "ipython",
    "version": 3
   },
   "file_extension": ".py",
   "mimetype": "text/x-python",
   "name": "python",
   "nbconvert_exporter": "python",
   "pygments_lexer": "ipython3",
   "version": "3.11.1"
  }
 },
 "nbformat": 4,
 "nbformat_minor": 2
}
